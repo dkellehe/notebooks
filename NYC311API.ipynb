{
 "cells": [
  {
   "cell_type": "markdown",
   "metadata": {},
   "source": [
    "# Making Request to the NYC 311 API\n",
    "\n",
    "A few of my students are doing a project using data from https://www.buzzfeednews.com/article/lamvo/gentrification-complaints-311-new-york, over the course of this project, they needed to make requests to the NYC 311 database https://data.cityofnewyork.us/Social-Services/311-Service-Requests-from-2010-to-Present/erm2-nwe9.\n",
    "\n",
    "This is a quick tutorial for them. Let us start with something relatively simple.\n",
    "\n",
    "Queuries are made from URLs of the form `endpoint` + `?` + `query`, so for example, the url for finding all indicdents created on April 1st, 2019 would be"
   ]
  },
  {
   "cell_type": "code",
   "execution_count": 1,
   "metadata": {},
   "outputs": [
    {
     "name": "stdout",
     "output_type": "stream",
     "text": [
      "[1] \"https://data.cityofnewyork.us/resource/fhrw-4uyv.csv?created_date=2019-04-01T00:00:00.000\"\n"
     ]
    }
   ],
   "source": [
    "# April Fools Incidents Request\n",
    "endpoint <- 'https://data.cityofnewyork.us/resource/fhrw-4uyv.csv'\n",
    "query <- 'created_date=2019-04-01T00:00:00.000'\n",
    "url <- paste(endpoint, \"?\", query, sep=\"\")\n",
    "print(url)"
   ]
  },
  {
   "cell_type": "markdown",
   "metadata": {},
   "source": [
    "We can use this to make a request for incidents from that date simply by passing this url to `read.csv`"
   ]
  },
  {
   "cell_type": "code",
   "execution_count": 2,
   "metadata": {},
   "outputs": [
    {
     "data": {
      "text/html": [
       "<table>\n",
       "<thead><tr><th scope=col>address_type</th><th scope=col>agency</th><th scope=col>agency_name</th><th scope=col>bbl</th><th scope=col>borough</th><th scope=col>bridge_highway_direction</th><th scope=col>bridge_highway_name</th><th scope=col>bridge_highway_segment</th><th scope=col>city</th><th scope=col>closed_date</th><th scope=col>⋯</th><th scope=col>resolution_description</th><th scope=col>road_ramp</th><th scope=col>status</th><th scope=col>street_name</th><th scope=col>taxi_company_borough</th><th scope=col>taxi_pick_up_location</th><th scope=col>unique_key</th><th scope=col>vehicle_type</th><th scope=col>x_coordinate_state_plane</th><th scope=col>y_coordinate_state_plane</th></tr></thead>\n",
       "<tbody>\n",
       "\t<tr><td>ADDRESS                                                                                                                                                                                                                                 </td><td>DOHMH                                                                                                                                                                                                                                   </td><td>Department of Health and Mental Hygiene                                                                                                                                                                                                 </td><td>3042340024                                                                                                                                                                                                                              </td><td>BROOKLYN                                                                                                                                                                                                                                </td><td>NA                                                                                                                                                                                                                                      </td><td>NA                                                                                                                                                                                                                                      </td><td>NA                                                                                                                                                                                                                                      </td><td>BROOKLYN                                                                                                                                                                                                                                </td><td>                                                                                                                                                                                                                                        </td><td>⋯                                                                                                                                                                                                                                       </td><td>The Department of Health and Mental Hygiene will review your complaint to determine appropriate action.  Complaints of this type usually result in an inspection.  Please call 311 in 30 days from the date of your complaint for status</td><td>NA                                                                                                                                                                                                                                      </td><td>Assigned                                                                                                                                                                                                                                </td><td>CRESCENT STREET                                                                                                                                                                                                                         </td><td>NA                                                                                                                                                                                                                                      </td><td>NA                                                                                                                                                                                                                                      </td><td>42112599                                                                                                                                                                                                                                </td><td>NA                                                                                                                                                                                                                                      </td><td>1020319                                                                                                                                                                                                                                 </td><td>185300                                                                                                                                                                                                                                  </td></tr>\n",
       "\t<tr><td>ADDRESS                                                                                                                                                                                                                                 </td><td>DOHMH                                                                                                                                                                                                                                   </td><td>Department of Health and Mental Hygiene                                                                                                                                                                                                 </td><td>4098230009                                                                                                                                                                                                                              </td><td>QUEENS                                                                                                                                                                                                                                  </td><td>NA                                                                                                                                                                                                                                      </td><td>NA                                                                                                                                                                                                                                      </td><td>NA                                                                                                                                                                                                                                      </td><td>Jamaica                                                                                                                                                                                                                                 </td><td>2019-04-05T13:46:23.000                                                                                                                                                                                                                 </td><td>⋯                                                                                                                                                                                                                                       </td><td>The Department of Health and Mental Hygiene will review your complaint to determine appropriate action.  Complaints of this type usually result in an inspection.  Please call 311 in 30 days from the date of your complaint for status</td><td>NA                                                                                                                                                                                                                                      </td><td>Closed                                                                                                                                                                                                                                  </td><td>88 AVENUE                                                                                                                                                                                                                               </td><td>NA                                                                                                                                                                                                                                      </td><td>NA                                                                                                                                                                                                                                      </td><td>42111461                                                                                                                                                                                                                                </td><td>NA                                                                                                                                                                                                                                      </td><td>1041795                                                                                                                                                                                                                                 </td><td>198036                                                                                                                                                                                                                                  </td></tr>\n",
       "</tbody>\n",
       "</table>\n"
      ],
      "text/latex": [
       "\\begin{tabular}{r|lllllllllllllllllllllllllllllllllllllllllllll}\n",
       " address\\_type & agency & agency\\_name & bbl & borough & bridge\\_highway\\_direction & bridge\\_highway\\_name & bridge\\_highway\\_segment & city & closed\\_date & ⋯ & resolution\\_description & road\\_ramp & status & street\\_name & taxi\\_company\\_borough & taxi\\_pick\\_up\\_location & unique\\_key & vehicle\\_type & x\\_coordinate\\_state\\_plane & y\\_coordinate\\_state\\_plane\\\\\n",
       "\\hline\n",
       "\t ADDRESS                                                                                                                                                                                                                                  & DOHMH                                                                                                                                                                                                                                    & Department of Health and Mental Hygiene                                                                                                                                                                                                  & 3042340024                                                                                                                                                                                                                               & BROOKLYN                                                                                                                                                                                                                                 & NA                                                                                                                                                                                                                                       & NA                                                                                                                                                                                                                                       & NA                                                                                                                                                                                                                                       & BROOKLYN                                                                                                                                                                                                                                 &                                                                                                                                                                                                                                          & ⋯                                                                                                                                                                                                                                        & The Department of Health and Mental Hygiene will review your complaint to determine appropriate action.  Complaints of this type usually result in an inspection.  Please call 311 in 30 days from the date of your complaint for status & NA                                                                                                                                                                                                                                       & Assigned                                                                                                                                                                                                                                 & CRESCENT STREET                                                                                                                                                                                                                          & NA                                                                                                                                                                                                                                       & NA                                                                                                                                                                                                                                       & 42112599                                                                                                                                                                                                                                 & NA                                                                                                                                                                                                                                       & 1020319                                                                                                                                                                                                                                  & 185300                                                                                                                                                                                                                                  \\\\\n",
       "\t ADDRESS                                                                                                                                                                                                                                  & DOHMH                                                                                                                                                                                                                                    & Department of Health and Mental Hygiene                                                                                                                                                                                                  & 4098230009                                                                                                                                                                                                                               & QUEENS                                                                                                                                                                                                                                   & NA                                                                                                                                                                                                                                       & NA                                                                                                                                                                                                                                       & NA                                                                                                                                                                                                                                       & Jamaica                                                                                                                                                                                                                                  & 2019-04-05T13:46:23.000                                                                                                                                                                                                                  & ⋯                                                                                                                                                                                                                                        & The Department of Health and Mental Hygiene will review your complaint to determine appropriate action.  Complaints of this type usually result in an inspection.  Please call 311 in 30 days from the date of your complaint for status & NA                                                                                                                                                                                                                                       & Closed                                                                                                                                                                                                                                   & 88 AVENUE                                                                                                                                                                                                                                & NA                                                                                                                                                                                                                                       & NA                                                                                                                                                                                                                                       & 42111461                                                                                                                                                                                                                                 & NA                                                                                                                                                                                                                                       & 1041795                                                                                                                                                                                                                                  & 198036                                                                                                                                                                                                                                  \\\\\n",
       "\\end{tabular}\n"
      ],
      "text/markdown": [
       "\n",
       "| address_type | agency | agency_name | bbl | borough | bridge_highway_direction | bridge_highway_name | bridge_highway_segment | city | closed_date | ⋯ | resolution_description | road_ramp | status | street_name | taxi_company_borough | taxi_pick_up_location | unique_key | vehicle_type | x_coordinate_state_plane | y_coordinate_state_plane |\n",
       "|---|---|---|---|---|---|---|---|---|---|---|---|---|---|---|---|---|---|---|---|---|\n",
       "| ADDRESS                                                                                                                                                                                                                                  | DOHMH                                                                                                                                                                                                                                    | Department of Health and Mental Hygiene                                                                                                                                                                                                  | 3042340024                                                                                                                                                                                                                               | BROOKLYN                                                                                                                                                                                                                                 | NA                                                                                                                                                                                                                                       | NA                                                                                                                                                                                                                                       | NA                                                                                                                                                                                                                                       | BROOKLYN                                                                                                                                                                                                                                 |                                                                                                                                                                                                                                          | ⋯                                                                                                                                                                                                                                        | The Department of Health and Mental Hygiene will review your complaint to determine appropriate action.  Complaints of this type usually result in an inspection.  Please call 311 in 30 days from the date of your complaint for status | NA                                                                                                                                                                                                                                       | Assigned                                                                                                                                                                                                                                 | CRESCENT STREET                                                                                                                                                                                                                          | NA                                                                                                                                                                                                                                       | NA                                                                                                                                                                                                                                       | 42112599                                                                                                                                                                                                                                 | NA                                                                                                                                                                                                                                       | 1020319                                                                                                                                                                                                                                  | 185300                                                                                                                                                                                                                                   |\n",
       "| ADDRESS                                                                                                                                                                                                                                  | DOHMH                                                                                                                                                                                                                                    | Department of Health and Mental Hygiene                                                                                                                                                                                                  | 4098230009                                                                                                                                                                                                                               | QUEENS                                                                                                                                                                                                                                   | NA                                                                                                                                                                                                                                       | NA                                                                                                                                                                                                                                       | NA                                                                                                                                                                                                                                       | Jamaica                                                                                                                                                                                                                                  | 2019-04-05T13:46:23.000                                                                                                                                                                                                                  | ⋯                                                                                                                                                                                                                                        | The Department of Health and Mental Hygiene will review your complaint to determine appropriate action.  Complaints of this type usually result in an inspection.  Please call 311 in 30 days from the date of your complaint for status | NA                                                                                                                                                                                                                                       | Closed                                                                                                                                                                                                                                   | 88 AVENUE                                                                                                                                                                                                                                | NA                                                                                                                                                                                                                                       | NA                                                                                                                                                                                                                                       | 42111461                                                                                                                                                                                                                                 | NA                                                                                                                                                                                                                                       | 1041795                                                                                                                                                                                                                                  | 198036                                                                                                                                                                                                                                   |\n",
       "\n"
      ],
      "text/plain": [
       "  address_type agency agency_name                             bbl       \n",
       "1 ADDRESS      DOHMH  Department of Health and Mental Hygiene 3042340024\n",
       "2 ADDRESS      DOHMH  Department of Health and Mental Hygiene 4098230009\n",
       "  borough  bridge_highway_direction bridge_highway_name bridge_highway_segment\n",
       "1 BROOKLYN NA                       NA                  NA                    \n",
       "2 QUEENS   NA                       NA                  NA                    \n",
       "  city     closed_date             ⋯\n",
       "1 BROOKLYN                         ⋯\n",
       "2 Jamaica  2019-04-05T13:46:23.000 ⋯\n",
       "  resolution_description                                                                                                                                                                                                                  \n",
       "1 The Department of Health and Mental Hygiene will review your complaint to determine appropriate action.  Complaints of this type usually result in an inspection.  Please call 311 in 30 days from the date of your complaint for status\n",
       "2 The Department of Health and Mental Hygiene will review your complaint to determine appropriate action.  Complaints of this type usually result in an inspection.  Please call 311 in 30 days from the date of your complaint for status\n",
       "  road_ramp status   street_name     taxi_company_borough taxi_pick_up_location\n",
       "1 NA        Assigned CRESCENT STREET NA                   NA                   \n",
       "2 NA        Closed   88 AVENUE       NA                   NA                   \n",
       "  unique_key vehicle_type x_coordinate_state_plane y_coordinate_state_plane\n",
       "1 42112599   NA           1020319                  185300                  \n",
       "2 42111461   NA           1041795                  198036                  "
      ]
     },
     "metadata": {},
     "output_type": "display_data"
    }
   ],
   "source": [
    "#April Fools Incidents dataframe\n",
    "april.fools.2019 <- read.csv(url)\n",
    "head(april.fools.2019, 2)"
   ]
  },
  {
   "cell_type": "markdown",
   "metadata": {},
   "source": [
    "Now let's get a little fancier, say we instead wanted to get all the incidents *after* April 1st. We would have to modify our syntax a little bit. This syntax is proprietary to Socrata, you can see a tutorial here https://dev.socrata.com/docs/queries/,  but it is designed to replicate SQL, if you are familiar with that it helps a lot. If you find it confusing, pls ask me, I do NOT want to accidentally DDOS the server.\n",
    "\n"
   ]
  },
  {
   "cell_type": "code",
   "execution_count": 3,
   "metadata": {},
   "outputs": [
    {
     "name": "stdout",
     "output_type": "stream",
     "text": [
      "[1] \"https://data.cityofnewyork.us/resource/fhrw-4uyv.csv?$where=created_date>='2019-04-01T00:00:00.000'\"\n"
     ]
    }
   ],
   "source": [
    "# Post April Fools Request\n",
    "endpoint <- 'https://data.cityofnewyork.us/resource/fhrw-4uyv.csv'\n",
    "query <- \"$where=created_date>='2019-04-01T00:00:00.000'\"\n",
    "url2 <- paste(endpoint, \"?\", query, sep=\"\")\n",
    "print(url2)\n",
    "april.fools.plus <- read.csv(url2)"
   ]
  },
  {
   "cell_type": "code",
   "execution_count": 4,
   "metadata": {},
   "outputs": [
    {
     "data": {
      "text/html": [
       "'Number of Rows:'"
      ],
      "text/latex": [
       "'Number of Rows:'"
      ],
      "text/markdown": [
       "'Number of Rows:'"
      ],
      "text/plain": [
       "[1] \"Number of Rows:\""
      ]
     },
     "metadata": {},
     "output_type": "display_data"
    },
    {
     "data": {
      "text/html": [
       "1000"
      ],
      "text/latex": [
       "1000"
      ],
      "text/markdown": [
       "1000"
      ],
      "text/plain": [
       "[1] 1000"
      ]
     },
     "metadata": {},
     "output_type": "display_data"
    }
   ],
   "source": [
    "\"Number of Rows:\" \n",
    "nrow(april.fools.plus)\n"
   ]
  },
  {
   "cell_type": "markdown",
   "metadata": {},
   "source": [
    "You will notice a few things... \n",
    "\n",
    "1. The floating datetime had to be in Brittish Quotes ''. \n",
    "\n",
    "2. It only output 1000 rows.... this is because there is a limit to what gryd will import, so there have been more than 1000 incidents this month, and we are only seeing a portion.\n",
    "\n",
    "## Getting the incidents from the neighborhood in the article\n",
    "\n",
    "The following is a list of addresses which I took from the Buzzfeed articles github page. These are the street addresses of the neighborhood which was studied in the article."
   ]
  },
  {
   "cell_type": "code",
   "execution_count": 5,
   "metadata": {},
   "outputs": [],
   "source": [
    "addresses<-c(\"600 WEST 136 STREET\",\n",
    "        \"601 WEST 136 STREET\",\n",
    "        \"602 WEST 136 STREET\",\n",
    "        \"603 WEST 136 STREET\",\n",
    "        \"604 WEST 136 STREET\",\n",
    "        \"605 WEST 136 STREET\",\n",
    "        \"606 WEST 136 STREET\",\n",
    "        \"607 WEST 136 STREET\",\n",
    "        \"608 WEST 136 STREET\",\n",
    "        \"609 WEST 136 STREET\",\n",
    "        \"610 WEST 136 STREET\",\n",
    "        \"611 WEST 136 STREET\",\n",
    "        \"612 WEST 136 STREET\",\n",
    "        \"613 WEST 136 STREET\",\n",
    "        \"614 WEST 136 STREET\",\n",
    "        \"615 WEST 136 STREET\",\n",
    "        \"616 WEST 136 STREET\",\n",
    "        \"617 WEST 136 STREET\",\n",
    "        \"618 WEST 136 STREET\",\n",
    "        \"619 WEST 136 STREET\",\n",
    "        \"620 WEST 136 STREET\",\n",
    "        \"621 WEST 136 STREET\",\n",
    "        \"622 WEST 136 STREET\",\n",
    "        \"623 WEST 136 STREET\",\n",
    "        \"624 WEST 136 STREET\",\n",
    "        \"625 WEST 136 STREET\",\n",
    "        \"626 WEST 136 STREET\",\n",
    "        \"627 WEST 136 STREET\",\n",
    "        \"628 WEST 136 STREET\",\n",
    "        \"629 WEST 136 STREET\",\n",
    "        \"630 WEST 136 STREET\",\n",
    "        \"631 WEST 136 STREET\",\n",
    "        \"632 WEST 136 STREET\",\n",
    "        \"633 WEST 136 STREET\",\n",
    "        \"634 WEST 136 STREET\",\n",
    "        \"635 WEST 136 STREET\",\n",
    "        \"636 WEST 136 STREET\",\n",
    "        '615 WEST 136 STREET',\n",
    "        '618 WEST 136 STREET',\n",
    "        '622 WEST 136 STREET',\n",
    "        '619 WEST 136 STREET',\n",
    "        '623 WEST 136 STREET',\n",
    "        '611 WEST 136 STREET',\n",
    "        '636 WEST 136 STREET',\n",
    "        '621 WEST 136 STREET',\n",
    "        '612 WEST 136 STREET',\n",
    "        '607 WEST 136 STREET',\n",
    "        '616 WEST 136 STREET',\n",
    "        '624 WEST 136 STREET',\n",
    "        '625 WEST 136 STREET',\n",
    "        '626 WEST 136 STREET',\n",
    "        '614 WEST 136 STREET',\n",
    "        '600 WEST 136 STREET',\n",
    "        '613 WEST 136 STREET',\n",
    "        '620 WEST 136 STREET',\n",
    "        '630 WEST 136 STREET',\n",
    "        '623 WEST  136 STREET',\n",
    "        '636 WEST  136 STREET',\n",
    "        '622 WEST  136 STREET',\n",
    "        '627 WEST 136 STREET',\n",
    "        '634 WEST 136 STREET') \n",
    "addresses <- unique(addresses)"
   ]
  },
  {
   "cell_type": "markdown",
   "metadata": {},
   "source": [
    "If we want to create a request for a single address then it would look like"
   ]
  },
  {
   "cell_type": "code",
   "execution_count": 6,
   "metadata": {},
   "outputs": [],
   "source": [
    "endpoint <- \"https://data.cityofnewyork.us/resource/fhrw-4uyv.csv\"\n",
    "query <- 'incident_address=634%20WEST%20136%20STREET'\n",
    "request <- paste(endpoint, \"?\", query, sep=\"\")\n",
    "data<-read.csv(request)"
   ]
  },
  {
   "cell_type": "code",
   "execution_count": 7,
   "metadata": {},
   "outputs": [
    {
     "data": {
      "text/html": [
       "<table>\n",
       "<thead><tr><th scope=col>address_type</th><th scope=col>agency</th><th scope=col>agency_name</th><th scope=col>bbl</th><th scope=col>borough</th><th scope=col>bridge_highway_direction</th><th scope=col>bridge_highway_name</th><th scope=col>bridge_highway_segment</th><th scope=col>city</th><th scope=col>closed_date</th><th scope=col>⋯</th><th scope=col>resolution_description</th><th scope=col>road_ramp</th><th scope=col>status</th><th scope=col>street_name</th><th scope=col>taxi_company_borough</th><th scope=col>taxi_pick_up_location</th><th scope=col>unique_key</th><th scope=col>vehicle_type</th><th scope=col>x_coordinate_state_plane</th><th scope=col>y_coordinate_state_plane</th></tr></thead>\n",
       "<tbody>\n",
       "\t<tr><td>ADDRESS                                                                                                                                </td><td>NYPD                                                                                                                                   </td><td>New York City Police Department                                                                                                        </td><td>1020020097                                                                                                                             </td><td>MANHATTAN                                                                                                                              </td><td>NA                                                                                                                                     </td><td>NA                                                                                                                                     </td><td>NA                                                                                                                                     </td><td>NEW YORK                                                                                                                               </td><td>2016-02-08T05:12:48.000                                                                                                                </td><td>⋯                                                                                                                                      </td><td>The Police Department responded to the complaint and with the information available observed no evidence of the violation at that time.</td><td>NA                                                                                                                                     </td><td>Closed                                                                                                                                 </td><td>WEST 136 STREET                                                                                                                        </td><td>NA                                                                                                                                     </td><td>NA                                                                                                                                     </td><td>32630281                                                                                                                               </td><td>NA                                                                                                                                     </td><td>996567                                                                                                                                 </td><td>238446                                                                                                                                 </td></tr>\n",
       "</tbody>\n",
       "</table>\n"
      ],
      "text/latex": [
       "\\begin{tabular}{r|lllllllllllllllllllllllllllllllllllllllllllll}\n",
       " address\\_type & agency & agency\\_name & bbl & borough & bridge\\_highway\\_direction & bridge\\_highway\\_name & bridge\\_highway\\_segment & city & closed\\_date & ⋯ & resolution\\_description & road\\_ramp & status & street\\_name & taxi\\_company\\_borough & taxi\\_pick\\_up\\_location & unique\\_key & vehicle\\_type & x\\_coordinate\\_state\\_plane & y\\_coordinate\\_state\\_plane\\\\\n",
       "\\hline\n",
       "\t ADDRESS                                                                                                                                 & NYPD                                                                                                                                    & New York City Police Department                                                                                                         & 1020020097                                                                                                                              & MANHATTAN                                                                                                                               & NA                                                                                                                                      & NA                                                                                                                                      & NA                                                                                                                                      & NEW YORK                                                                                                                                & 2016-02-08T05:12:48.000                                                                                                                 & ⋯                                                                                                                                       & The Police Department responded to the complaint and with the information available observed no evidence of the violation at that time. & NA                                                                                                                                      & Closed                                                                                                                                  & WEST 136 STREET                                                                                                                         & NA                                                                                                                                      & NA                                                                                                                                      & 32630281                                                                                                                                & NA                                                                                                                                      & 996567                                                                                                                                  & 238446                                                                                                                                 \\\\\n",
       "\\end{tabular}\n"
      ],
      "text/markdown": [
       "\n",
       "| address_type | agency | agency_name | bbl | borough | bridge_highway_direction | bridge_highway_name | bridge_highway_segment | city | closed_date | ⋯ | resolution_description | road_ramp | status | street_name | taxi_company_borough | taxi_pick_up_location | unique_key | vehicle_type | x_coordinate_state_plane | y_coordinate_state_plane |\n",
       "|---|---|---|---|---|---|---|---|---|---|---|---|---|---|---|---|---|---|---|---|---|\n",
       "| ADDRESS                                                                                                                                 | NYPD                                                                                                                                    | New York City Police Department                                                                                                         | 1020020097                                                                                                                              | MANHATTAN                                                                                                                               | NA                                                                                                                                      | NA                                                                                                                                      | NA                                                                                                                                      | NEW YORK                                                                                                                                | 2016-02-08T05:12:48.000                                                                                                                 | ⋯                                                                                                                                       | The Police Department responded to the complaint and with the information available observed no evidence of the violation at that time. | NA                                                                                                                                      | Closed                                                                                                                                  | WEST 136 STREET                                                                                                                         | NA                                                                                                                                      | NA                                                                                                                                      | 32630281                                                                                                                                | NA                                                                                                                                      | 996567                                                                                                                                  | 238446                                                                                                                                  |\n",
       "\n"
      ],
      "text/plain": [
       "  address_type agency agency_name                     bbl        borough  \n",
       "1 ADDRESS      NYPD   New York City Police Department 1020020097 MANHATTAN\n",
       "  bridge_highway_direction bridge_highway_name bridge_highway_segment city    \n",
       "1 NA                       NA                  NA                     NEW YORK\n",
       "  closed_date             ⋯\n",
       "1 2016-02-08T05:12:48.000 ⋯\n",
       "  resolution_description                                                                                                                 \n",
       "1 The Police Department responded to the complaint and with the information available observed no evidence of the violation at that time.\n",
       "  road_ramp status street_name     taxi_company_borough taxi_pick_up_location\n",
       "1 NA        Closed WEST 136 STREET NA                   NA                   \n",
       "  unique_key vehicle_type x_coordinate_state_plane y_coordinate_state_plane\n",
       "1 32630281   NA           996567                   238446                  "
      ]
     },
     "metadata": {},
     "output_type": "display_data"
    }
   ],
   "source": [
    "data"
   ]
  },
  {
   "cell_type": "markdown",
   "metadata": {},
   "source": [
    "You'll notice that for our `query` we needed to replace all the spaces with `%20`'s. This is because of how HTML encodes white spaces. (on a related note, if you like podcasts, this is the cause of a bug in some car stereos when they go to play \"99%Invisible\" https://www.gimletmedia.com/shows/reply-all/brh8jm/140-the-roman-mars-mazda-virus)\n",
    "\n",
    "So when we put together our for-loop, we are going to replace all the spacesm, make a request for all the addresses, then glue the dataframe to our old dataframe. "
   ]
  },
  {
   "cell_type": "code",
   "execution_count": 17,
   "metadata": {},
   "outputs": [
    {
     "name": "stdout",
     "output_type": "stream",
     "text": [
      "[1] \"To many incidents at  615 WEST 136 STREET\"\n",
      "[1] \"To many incidents at  622 WEST 136 STREET\"\n"
     ]
    }
   ],
   "source": [
    "data  = data.frame()\n",
    "endpoint <- \"https://data.cityofnewyork.us/resource/fhrw-4uyv.csv\"\n",
    "query <- 'incident_address='\n",
    "overflow.addresses <- c()\n",
    "\n",
    "for( address in addresses){\n",
    "    # fix roman mars virus....\n",
    "    mars_friendly_address <- gsub(\" \", \"%20\", address)\n",
    "    \n",
    "    # make the request\n",
    "    request <- paste(endpoint, \"?\", query, mars_friendly_address, sep=\"\")\n",
    "    temp_df <- read.csv(request)\n",
    "    \n",
    "    #test to make sure we don't have 1000 rows\n",
    "    if(nrow(temp_df)==1000){\n",
    "        print(paste(\"To many incidents at \", address))\n",
    "        overflow.addresses <- c(overflow.addresses, mars_friendly_address)\n",
    "    }\n",
    "    # otherwise we add it to the previous dataframe\n",
    "    else{data <- rbind(data, temp_df)}\n",
    "}\n",
    "    "
   ]
  },
  {
   "cell_type": "markdown",
   "metadata": {},
   "source": [
    "Oh no! There are a lot 311 complaints at those two addresses, so we have to do something different with those two addresses! Hopefully we can combine our times part of the call with the address part of the call."
   ]
  },
  {
   "cell_type": "code",
   "execution_count": 47,
   "metadata": {},
   "outputs": [],
   "source": [
    "years <- factor(2010:2019)\n",
    "\n",
    "for(year in years){\n",
    "    url <- paste(endpoint, '?',\"$where=date_extract_y(created_date)=\", year, '&', 'incident_address=', overflow.addresses[1], sep=\"\" )\n",
    "    test.data <- read.csv(url)\n",
    "    data <- rbind(data, test.data)\n",
    "}\n",
    "\n",
    "for(year in years){\n",
    "    url <- paste(endpoint, '?',\"$where=date_extract_y(created_date)=\", year, '&', 'incident_address=', overflow.addresses[2], sep=\"\" )\n",
    "    test.data <- read.csv(url)\n",
    "    data <- rbind(data, test.data)\n",
    "}"
   ]
  },
  {
   "cell_type": "code",
   "execution_count": 50,
   "metadata": {},
   "outputs": [
    {
     "data": {
      "text/html": [
       "4177"
      ],
      "text/latex": [
       "4177"
      ],
      "text/markdown": [
       "4177"
      ],
      "text/plain": [
       "[1] 4177"
      ]
     },
     "metadata": {},
     "output_type": "display_data"
    },
    {
     "data": {
      "text/html": [
       "45"
      ],
      "text/latex": [
       "45"
      ],
      "text/markdown": [
       "45"
      ],
      "text/plain": [
       "[1] 45"
      ]
     },
     "metadata": {},
     "output_type": "display_data"
    }
   ],
   "source": [
    "nrow(data)\n",
    "ncol(data)"
   ]
  },
  {
   "cell_type": "markdown",
   "metadata": {},
   "source": [
    "And there we have it, the data from the neighborhood that the article was written about."
   ]
  }
 ],
 "metadata": {
  "kernelspec": {
   "display_name": "R",
   "language": "R",
   "name": "ir"
  },
  "language_info": {
   "codemirror_mode": "r",
   "file_extension": ".r",
   "mimetype": "text/x-r-source",
   "name": "R",
   "pygments_lexer": "r",
   "version": "3.4.4"
  }
 },
 "nbformat": 4,
 "nbformat_minor": 2
}
